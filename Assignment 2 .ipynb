{
 "cells": [
  {
   "cell_type": "markdown",
   "id": "daf5ae1d",
   "metadata": {},
   "source": [
    "## 1.What are the two values of the Boolean data type? How do you write them?\n",
    "\n",
    "True and False are the two values.<br>\n",
    "Write as True and False"
   ]
  },
  {
   "cell_type": "markdown",
   "id": "75d05dc0",
   "metadata": {},
   "source": [
    "## 2. What are the three different types of Boolean operators?\n",
    "\n",
    "AND, OR and NOT"
   ]
  },
  {
   "cell_type": "markdown",
   "id": "782647c8",
   "metadata": {},
   "source": [
    "## 3. Make a list of each Boolean operator&#39;s truth tables"
   ]
  },
  {
   "cell_type": "markdown",
   "id": "95115553",
   "metadata": {},
   "source": [
    "## 4. What are the values of the following expressions?\n",
    "\n",
    "(5 > 4) and (3 == 5) -> False <br>\n",
    "not (5 > 4) -> False <br>\n",
    "(5 > 4) or (3 == 5) -> True <br>\n",
    "not ((5 > 4) or (3 == 5)) -> False <br>\n",
    "(True and True) and (True == False) -> False <br>\n",
    "(not False) or (not True) -> True"
   ]
  },
  {
   "cell_type": "markdown",
   "id": "a1d12b7a",
   "metadata": {},
   "source": [
    "## 5. What are the six comparison operators?"
   ]
  },
  {
   "cell_type": "code",
   "execution_count": 13,
   "id": "0f4c6064",
   "metadata": {},
   "outputs": [],
   "source": [
    "#These are the six comparison operators >, >=, <, <=, ==, != "
   ]
  },
  {
   "cell_type": "markdown",
   "id": "4b674c82",
   "metadata": {},
   "source": [
    "## 6. How do you tell the difference between the equal to and assignment operators?Describe a condition and when you would use one.\n",
    "\n",
    "equal to (==) is used to check whether it is same value or not <br>\n",
    "eg: 12 == 12 -> True\n",
    "    12 == 1  -> False\n",
    "    \n",
    "The assigment operator (=) is used to assign an address to the value <br>\n",
    "eg: a == 12, it means that the address of value 12 is a."
   ]
  },
  {
   "cell_type": "markdown",
   "id": "e0f15f66",
   "metadata": {},
   "source": [
    "## 7. Identify the three blocks in this code:\n",
    "\n",
    "spam = 0 <br>\n",
    "if spam == 10: <br>\n",
    "print(&#39;eggs&#39;) <br>\n",
    "if spam &gt; 5: <br>\n",
    "print(&#39;bacon&#39;) <br>\n",
    "else: <br>\n",
    "print(&#39;ham&#39;) <br>\n",
    "print(&#39;spam&#39;)<br>\n",
    "print(&#39;spam&#39;)<br>"
   ]
  },
  {
   "cell_type": "code",
   "execution_count": 6,
   "id": "dc4ea029",
   "metadata": {},
   "outputs": [
    {
     "name": "stdout",
     "output_type": "stream",
     "text": [
      "spam\n"
     ]
    }
   ],
   "source": [
    "spam = 0\n",
    "if spam == 10:           #1st block\n",
    "    print(\"eggs\")\n",
    "    if spam > 5:         #2nd block\n",
    "        print('bacon')\n",
    "    else:                #3rd block\n",
    "        print('ham')\n",
    "    print('spam')\n",
    "print('spam')"
   ]
  },
  {
   "cell_type": "markdown",
   "id": "2c28aaa4",
   "metadata": {},
   "source": [
    "## 8. Write code that prints Hello if 1 is stored in spam, prints Howdy if 2 is stored in spam, and prints Greetings! if anything else is stored in spam."
   ]
  },
  {
   "cell_type": "code",
   "execution_count": null,
   "id": "adbfa390",
   "metadata": {},
   "outputs": [],
   "source": [
    "spam = int(input())\n",
    "if spam == 1:\n",
    "    print('Hello')\n",
    "elif spam == 2:\n",
    "    print('Howdy')\n",
    "else:\n",
    "    print('Greetings!')"
   ]
  },
  {
   "cell_type": "markdown",
   "id": "cabbe21a",
   "metadata": {},
   "source": [
    "## 9.If your programme is stuck in an endless loop, what keys you’ll press?\n",
    "\n",
    "Interrupt the kernel"
   ]
  },
  {
   "cell_type": "markdown",
   "id": "7391daee",
   "metadata": {},
   "source": [
    "## 10. How can you tell the difference between break and continue?\n",
    "\n",
    "The break statement stops the loop in which the statement is placed.<br>\n",
    "A continue statement skips a single iteration in a loop."
   ]
  },
  {
   "cell_type": "markdown",
   "id": "d98233f6",
   "metadata": {},
   "source": [
    "## 11. In a for loop, what is the difference between range(10), range(0, 10), and range(0, 10, 1)?\n",
    "\n",
    "range(start,stop,steps)\n",
    "\n",
    "range(10), it prints (0,1,2,3,4,5,6,7,8,9) it only sets when to stop<br>\n",
    "range(0,10), it prints (0,1,2,3,4,5,6,7,8,9) it sets where to start and when to stop<br>\n",
    "range(0,10,1), it prints (0,1,2,3,4,5,6,7,8,9) it sets start,stop and steps between each element<br>"
   ]
  },
  {
   "cell_type": "markdown",
   "id": "f46ea1cc",
   "metadata": {},
   "source": [
    "## 12. Write a short program that prints the numbers 1 to 10 using a for loop. Then write an equivalent program that prints the numbers 1 to 10 using a while loop."
   ]
  },
  {
   "cell_type": "code",
   "execution_count": 1,
   "id": "a0ffe326",
   "metadata": {},
   "outputs": [
    {
     "name": "stdout",
     "output_type": "stream",
     "text": [
      "1\n",
      "2\n",
      "3\n",
      "4\n",
      "5\n",
      "6\n",
      "7\n",
      "8\n",
      "9\n",
      "10\n"
     ]
    }
   ],
   "source": [
    "# for loop\n",
    "for i in range(1,11):\n",
    "    print(i)"
   ]
  },
  {
   "cell_type": "code",
   "execution_count": 1,
   "id": "d5b09453",
   "metadata": {},
   "outputs": [
    {
     "name": "stdout",
     "output_type": "stream",
     "text": [
      "1\n",
      "2\n",
      "3\n",
      "4\n",
      "5\n",
      "6\n",
      "7\n",
      "8\n",
      "9\n",
      "10\n"
     ]
    }
   ],
   "source": [
    "# while loop\n",
    "a = 1\n",
    "while a <= 10:\n",
    "    print(a)\n",
    "    a = a + 1"
   ]
  },
  {
   "cell_type": "markdown",
   "id": "24baadf3",
   "metadata": {},
   "source": [
    "## 13. If you had a function named bacon() inside a module named spam, how would you call it after importing spam?\n",
    "\n",
    "This function can be called with spam. bacon()."
   ]
  }
 ],
 "metadata": {
  "kernelspec": {
   "display_name": "Python 3",
   "language": "python",
   "name": "python3"
  },
  "language_info": {
   "codemirror_mode": {
    "name": "ipython",
    "version": 3
   },
   "file_extension": ".py",
   "mimetype": "text/x-python",
   "name": "python",
   "nbconvert_exporter": "python",
   "pygments_lexer": "ipython3",
   "version": "3.8.8"
  }
 },
 "nbformat": 4,
 "nbformat_minor": 5
}
