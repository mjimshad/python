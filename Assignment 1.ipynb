{
  "cells": [
    {
      "cell_type": "markdown",
      "source": [
        "1. In the below elements which of them are values or an expression? eg:- values can be integer or string and expressions will be mathematical operators.\n",
        "*\n",
        "&#39;hello&#39;\n",
        "-87.8\n",
        "-\n",
        "/\n",
        "+\n",
        "6 "
      ],
      "metadata": {
        "id": "wo9bc9YMoMEK"
      },
      "id": "wo9bc9YMoMEK"
    },
    {
      "cell_type": "markdown",
      "source": [
        "Values - 'hello',-87.8,6 <br>\n",
        "Expressions - *, -, /, +"
      ],
      "metadata": {
        "id": "fcnZdzSwoXe7"
      },
      "id": "fcnZdzSwoXe7"
    },
    {
      "cell_type": "markdown",
      "source": [
        "2. What is the difference between string and variable?\n",
        "\n",
        "String is a collection of characters. eg: \"chocolate\" <br>\n",
        "Variable is the referrence to the value or object. eg: a = \"chocolate\""
      ],
      "metadata": {
        "id": "7r17e7b4ophm"
      },
      "id": "7r17e7b4ophm"
    },
    {
      "cell_type": "markdown",
      "source": [
        "3. Describe three different data types.\n",
        "\n",
        "String - It is a collection of characters which is given inside single or double quotation marks. eg: \"abc\", 'abc'\n",
        "\n",
        "Int - It is integer data type.\n",
        "\n",
        "Float - It is also a integer data type which having floating point."
      ],
      "metadata": {
        "id": "nGUi1C_yo0iQ"
      },
      "id": "nGUi1C_yo0iQ"
    },
    {
      "cell_type": "markdown",
      "source": [
        "4. What is an expression made up of? What do all expressions do?\n",
        "\n",
        "An expression is a combination of operators and operands. eg:(*, +, -, /)\n",
        "\n",
        "The expressions produce a differrent value according to the operators and operands. eg:(1 + 1 = 2, a - b = 0)"
      ],
      "metadata": {
        "id": "cH9ZAzqqpApN"
      },
      "id": "cH9ZAzqqpApN"
    },
    {
      "cell_type": "markdown",
      "source": [
        "5. This assignment statements, like spam = 10. What is the difference between an expression and a statement?\n",
        "\n",
        "Statement is a command line in python which the interpreter can execute whereas an expression is made up of operands and values."
      ],
      "metadata": {
        "id": "birC_plapIN8"
      },
      "id": "birC_plapIN8"
    },
    {
      "cell_type": "markdown",
      "source": [
        "6. After running the following code, what does the variable bacon contain?\n",
        "bacon = 22,\n",
        "bacon + 1\n",
        "\n"
      ],
      "metadata": {
        "id": "MSZaIEfPpOPO"
      },
      "id": "MSZaIEfPpOPO"
    },
    {
      "cell_type": "code",
      "source": [
        "bacon = 22\n",
        "bacon + 1"
      ],
      "metadata": {
        "colab": {
          "base_uri": "https://localhost:8080/"
        },
        "id": "tNtN2dixpQcw",
        "outputId": "c102ae9a-33fb-46c6-ce78-be436f0adc5f"
      },
      "id": "tNtN2dixpQcw",
      "execution_count": 1,
      "outputs": [
        {
          "output_type": "execute_result",
          "data": {
            "text/plain": [
              "23"
            ]
          },
          "metadata": {},
          "execution_count": 1
        }
      ]
    },
    {
      "cell_type": "markdown",
      "source": [
        "7. What should the values of the following two terms be?\n",
        "'spam' + 'spamspam'\n",
        "'spam' * 3\n",
        "\n",
        "'spamspamspam'\n",
        "\n",
        "'spamspamspam'"
      ],
      "metadata": {
        "id": "K8TYgTzFpZBR"
      },
      "id": "K8TYgTzFpZBR"
    },
    {
      "cell_type": "markdown",
      "source": [
        "8. Why is eggs a valid variable name while 100 is invalid?\n",
        "\n",
        "A variable name can only start with a alphabet or an underscore(_)\n",
        "\n",
        "It can't start with a number or any other special characters."
      ],
      "metadata": {
        "id": "qYwAWjB9pjPo"
      },
      "id": "qYwAWjB9pjPo"
    },
    {
      "cell_type": "markdown",
      "source": [
        "9. What three functions can be used to get the integer, floating-point number, or string version of a value?\n",
        "\n",
        "int(),\n",
        "float(),\n",
        "str()"
      ],
      "metadata": {
        "id": "dEoCN_sDpq7_"
      },
      "id": "dEoCN_sDpq7_"
    },
    {
      "cell_type": "markdown",
      "source": [
        "10. Why does this expression cause an error? How can you fix it?\n",
        "'I have eaten'+99 +'burritos.'\n",
        "\n",
        "Error causes because string can only concatenate with another string not a number.\n",
        "To fix this, the integer 99 should do type casting.\n",
        "\n",
        "Fix code : \"I have eaten \"+str(99)+\" burritos.\""
      ],
      "metadata": {
        "id": "T2Za_82kprAk"
      },
      "id": "T2Za_82kprAk"
    },
    {
      "cell_type": "code",
      "source": [
        "\"I have eaten \"+str(99)+\" burritos.\""
      ],
      "metadata": {
        "id": "5DqYIdVKp2Kb",
        "outputId": "a7d8c659-b39d-4617-a88f-103eab7dd1a6",
        "colab": {
          "base_uri": "https://localhost:8080/",
          "height": 35
        }
      },
      "id": "5DqYIdVKp2Kb",
      "execution_count": 2,
      "outputs": [
        {
          "output_type": "execute_result",
          "data": {
            "text/plain": [
              "'I have eaten 99 burritos.'"
            ],
            "application/vnd.google.colaboratory.intrinsic+json": {
              "type": "string"
            }
          },
          "metadata": {},
          "execution_count": 2
        }
      ]
    },
    {
      "cell_type": "code",
      "source": [
        ""
      ],
      "metadata": {
        "id": "VZi8z7qFp3l5"
      },
      "id": "VZi8z7qFp3l5",
      "execution_count": null,
      "outputs": []
    }
  ],
  "metadata": {
    "kernelspec": {
      "display_name": "Python 3",
      "language": "python",
      "name": "python3"
    },
    "language_info": {
      "codemirror_mode": {
        "name": "ipython",
        "version": 3
      },
      "file_extension": ".py",
      "mimetype": "text/x-python",
      "name": "python",
      "nbconvert_exporter": "python",
      "pygments_lexer": "ipython3",
      "version": "3.8.8"
    },
    "colab": {
      "name": "Assignment 1.ipynb",
      "provenance": []
    }
  },
  "nbformat": 4,
  "nbformat_minor": 5
}