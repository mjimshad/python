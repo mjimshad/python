{
 "cells": [
  {
   "cell_type": "markdown",
   "id": "ccec29d2",
   "metadata": {},
   "source": [
    "### 1. In the below elements which of them are values or an expression? eg:- values can be integer or string and expressions will be mathematical operators.\n",
    "\n",
    "*\n",
    "&#39;hello&#39;\n",
    "-87.8\n",
    "-\n",
    "/\n",
    "+\n",
    "6\n"
   ]
  },
  {
   "cell_type": "raw",
   "id": "f036675d",
   "metadata": {},
   "source": [
    "Values - 'hello',-87.8,6\n",
    "Expressions - *, -, /, +"
   ]
  },
  {
   "cell_type": "markdown",
   "id": "bbbbc9e0",
   "metadata": {},
   "source": [
    "### 2. What is the difference between string and variable?"
   ]
  },
  {
   "cell_type": "raw",
   "id": "a9a49ac8",
   "metadata": {},
   "source": [
    "String is a collection of characters. eg: \"chocolate\"\n",
    "Variable is the referrence to the value or object. eg: a = \"chocolate\""
   ]
  },
  {
   "cell_type": "markdown",
   "id": "52de4deb",
   "metadata": {},
   "source": [
    "### 3. Describe three different data types."
   ]
  },
  {
   "cell_type": "raw",
   "id": "b7600a3b",
   "metadata": {},
   "source": [
    "1. String - It is a collection of characters which is given inside single or double quotation marks. eg: \"abc\", 'abc'\n",
    "\n",
    "2. Int - It is integer data type.\n",
    "\n",
    "3. Float - It is also a integer data type which having floating point."
   ]
  },
  {
   "cell_type": "markdown",
   "id": "776a84c3",
   "metadata": {},
   "source": [
    "### 4. What is an expression made up of? What do all expressions do?"
   ]
  },
  {
   "cell_type": "raw",
   "id": "32795f98",
   "metadata": {},
   "source": [
    "An expression is a combination of operators and operands. eg:(*, +, -, /)\n",
    "The expressions produce a differrent value according to the operators and operands. eg:(1 + 1 = 2, a - b = 0)"
   ]
  },
  {
   "cell_type": "markdown",
   "id": "df847af6",
   "metadata": {},
   "source": [
    "### 5. This assignment statements, like spam = 10. What is the difference between an expression and a statement?"
   ]
  },
  {
   "cell_type": "raw",
   "id": "edb86a3e",
   "metadata": {},
   "source": [
    "Statement is a command line in python which the interpreter can execute whereas an expression is made up of operands and values."
   ]
  },
  {
   "cell_type": "markdown",
   "id": "6b7e8c62",
   "metadata": {},
   "source": [
    "### 6. After running the following code, what does the variable bacon contain?\n",
    "bacon = 22,\n",
    "bacon + 1"
   ]
  },
  {
   "cell_type": "code",
   "execution_count": 14,
   "id": "c402edc5",
   "metadata": {},
   "outputs": [
    {
     "data": {
      "text/plain": [
       "23"
      ]
     },
     "execution_count": 14,
     "metadata": {},
     "output_type": "execute_result"
    }
   ],
   "source": [
    "bacon = 22\n",
    "bacon + 1"
   ]
  },
  {
   "cell_type": "markdown",
   "id": "df2932e9",
   "metadata": {},
   "source": [
    "### 7. What should the values of the following two terms be?\n",
    "'spam' + 'spamspam', 'spam' * 3"
   ]
  },
  {
   "cell_type": "code",
   "execution_count": 15,
   "id": "36176a4e",
   "metadata": {},
   "outputs": [
    {
     "data": {
      "text/plain": [
       "'spamspamspam'"
      ]
     },
     "execution_count": 15,
     "metadata": {},
     "output_type": "execute_result"
    }
   ],
   "source": [
    "'spam' + 'spamspam'"
   ]
  },
  {
   "cell_type": "code",
   "execution_count": 16,
   "id": "5c6b54f9",
   "metadata": {},
   "outputs": [
    {
     "data": {
      "text/plain": [
       "'spamspamspam'"
      ]
     },
     "execution_count": 16,
     "metadata": {},
     "output_type": "execute_result"
    }
   ],
   "source": [
    "'spam' * 3"
   ]
  },
  {
   "cell_type": "markdown",
   "id": "354e513f",
   "metadata": {},
   "source": [
    "### 8. Why is eggs a valid variable name while 100 is invalid?"
   ]
  },
  {
   "cell_type": "raw",
   "id": "02a52175",
   "metadata": {},
   "source": [
    "A variable name can only start with a alphabet or an underscore(_)\n",
    "It can't start with a number or any other special characters."
   ]
  },
  {
   "cell_type": "markdown",
   "id": "36076e7c",
   "metadata": {},
   "source": [
    "### 9. What three functions can be used to get the integer, floating-point number, or string version of a value?"
   ]
  },
  {
   "cell_type": "raw",
   "id": "cacf100f",
   "metadata": {},
   "source": [
    "int()\n",
    "float()\n",
    "str()"
   ]
  },
  {
   "cell_type": "markdown",
   "id": "0ff98431",
   "metadata": {},
   "source": [
    "### 10. Why does this expression cause an error? How can you fix it?\n",
    "'I have eaten'+99 +'burritos.'"
   ]
  },
  {
   "cell_type": "raw",
   "id": "c2fb382e",
   "metadata": {},
   "source": [
    "Error causes because string can only concatenate with another string not a number.\n",
    "To fix this, the integer 99 should do type casting.\n",
    "\n",
    "Fix code : \"I have eaten \"+str(99)+\" burritos.\""
   ]
  },
  {
   "cell_type": "code",
   "execution_count": 21,
   "id": "0d28b7bf",
   "metadata": {},
   "outputs": [
    {
     "data": {
      "text/plain": [
       "'I have eaten 99 burritos.'"
      ]
     },
     "execution_count": 21,
     "metadata": {},
     "output_type": "execute_result"
    }
   ],
   "source": [
    "\"I have eaten \"+str(99)+\" burritos.\""
   ]
  },
  {
   "cell_type": "code",
   "execution_count": null,
   "id": "0f0b90e0",
   "metadata": {},
   "outputs": [],
   "source": []
  }
 ],
 "metadata": {
  "kernelspec": {
   "display_name": "Python 3",
   "language": "python",
   "name": "python3"
  },
  "language_info": {
   "codemirror_mode": {
    "name": "ipython",
    "version": 3
   },
   "file_extension": ".py",
   "mimetype": "text/x-python",
   "name": "python",
   "nbconvert_exporter": "python",
   "pygments_lexer": "ipython3",
   "version": "3.8.8"
  }
 },
 "nbformat": 4,
 "nbformat_minor": 5
}
