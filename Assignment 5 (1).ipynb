{
 "cells": [
  {
   "cell_type": "markdown",
   "id": "e084abfe",
   "metadata": {},
   "source": [
    "# 1. What does an empty dictionary&#39;s code look like?\n",
    "\n",
    "To create a empty dictionary, we need to set to {} <br>\n",
    "dict = {}"
   ]
  },
  {
   "cell_type": "markdown",
   "id": "e67ce5ee",
   "metadata": {},
   "source": [
    "# 2. What is the value of a dictionary value with the key &#39;foo&#39; and the value 42?\n",
    "\n",
    "{'foo':42}"
   ]
  },
  {
   "cell_type": "markdown",
   "id": "c5ce9cd7",
   "metadata": {},
   "source": [
    "# 3. What is the most significant distinction between a dictionary and a list?\n",
    "The items stored in a dictionary are unordered, while the items in a list are ordered.<br>\n",
    "Dict has curly brackets {} whereas list as square brackets []"
   ]
  },
  {
   "cell_type": "markdown",
   "id": "11ec1114",
   "metadata": {},
   "source": [
    "# 4. What happens if you try to access spam[&#39;foo&#39;] if spam is {&#39;bar&#39;: 100}?\n",
    "\n",
    "Will get a KeyError"
   ]
  },
  {
   "cell_type": "markdown",
   "id": "aaac1bc9",
   "metadata": {},
   "source": [
    "# 5. If a dictionary is stored in spam, what is the difference between the expressions &#39;cat&#39; in spam and &#39;cat&#39; in spam.keys()?\n",
    "\n",
    "There is no difference. The in operator checks whether a value exists as a key in the dictionary."
   ]
  },
  {
   "cell_type": "markdown",
   "id": "0345d810",
   "metadata": {},
   "source": [
    "# 6. If a dictionary is stored in spam, what is the difference between the expressions &#39;cat&#39; in spam and &#39;cat&#39; in spam.values()?\n",
    "\n",
    "'cat' in spam.values() checks whether there is a value 'cat' for one of the keys in spam."
   ]
  },
  {
   "cell_type": "markdown",
   "id": "8ec5aaaf",
   "metadata": {},
   "source": [
    "# 7. What is a shortcut for the following code?\n",
    "## if &#39;color&#39; not in spam:\n",
    "## spam[&#39;color&#39;] = &#39;black&#39;\n",
    "\n",
    "spam.setdefault('color', 'black')"
   ]
  },
  {
   "cell_type": "markdown",
   "id": "03c1d0b9",
   "metadata": {},
   "source": [
    "# 8. How do you &quot;pretty print&quot; dictionary values using which module and function?\n",
    "\n",
    "pprint.pprint()"
   ]
  }
 ],
 "metadata": {
  "kernelspec": {
   "display_name": "Python 3",
   "language": "python",
   "name": "python3"
  },
  "language_info": {
   "codemirror_mode": {
    "name": "ipython",
    "version": 3
   },
   "file_extension": ".py",
   "mimetype": "text/x-python",
   "name": "python",
   "nbconvert_exporter": "python",
   "pygments_lexer": "ipython3",
   "version": "3.8.8"
  }
 },
 "nbformat": 4,
 "nbformat_minor": 5
}
