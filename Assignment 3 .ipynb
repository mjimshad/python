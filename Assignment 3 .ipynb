{
 "cells": [
  {
   "cell_type": "markdown",
   "id": "270ab5fa",
   "metadata": {},
   "source": [
    "## 1. Why are functions advantageous to have in your programs?\n",
    "\n",
    "The functions is a wrap of code that can be used anywhere anytime by calling it. It makes easy for the users to call by its name rather than writing the whole code for nth time. This makes more efficient."
   ]
  },
  {
   "cell_type": "markdown",
   "id": "fced9995",
   "metadata": {},
   "source": [
    "## 2. When does the code in a function run: when it&#39;s specified or when it&#39;s called?\n",
    "\n",
    "The code in a function run when it is referenced."
   ]
  },
  {
   "cell_type": "markdown",
   "id": "69943414",
   "metadata": {},
   "source": [
    "## 3. What statement creates a function?\n",
    "\n",
    "The statement contains the name of the function, parameters and the statement it executes. <br>\n",
    "eg: def function_name(arguments):<br>\n",
    "        statements"
   ]
  },
  {
   "cell_type": "markdown",
   "id": "53ad0ad3",
   "metadata": {},
   "source": [
    "## 4. What is the difference between a function and a function call?\n",
    "A function is procedure to achieve a particular result while function call is using this function to achive that task."
   ]
  },
  {
   "cell_type": "markdown",
   "id": "2a8a58d7",
   "metadata": {},
   "source": [
    "## 5. How many global scopes are there in a Python program? How many local scopes?\n",
    "\n",
    "Only one global python scope per program execution. Local scopes can be any numbers because it is existed only in a particular area of code (inside a function). Local scopes are only called when a function is called and it terminates after the call."
   ]
  },
  {
   "cell_type": "markdown",
   "id": "ad3f6d38",
   "metadata": {},
   "source": [
    "## 6. What happens to variables in a local scope when the function call returns?\n",
    "\n",
    "A local scope retains its value until the function is called next time. A local variable becomes undefined after the function is called."
   ]
  },
  {
   "cell_type": "markdown",
   "id": "4a053e1f",
   "metadata": {},
   "source": [
    "## 7. What is the concept of a return value? Is it possible to have a return value in an expression\n",
    "\n",
    "A return value is used to end the executin function and returns the result to the caller. Yes it is possible to have a return value in an expression."
   ]
  },
  {
   "cell_type": "markdown",
   "id": "31e7c8b8",
   "metadata": {},
   "source": [
    "## 8. If a function does not have a return statement, what is the return value of a call to that function?\n",
    "\n",
    "If a function doesn't contain any return value the it returns a NONE."
   ]
  },
  {
   "cell_type": "markdown",
   "id": "c2900f39",
   "metadata": {},
   "source": [
    "## 9. How do you make a function variable refer to the global variable?\n",
    "\n",
    "Use the Global keyword to declare which variables are global."
   ]
  },
  {
   "cell_type": "markdown",
   "id": "e4cd10d4",
   "metadata": {},
   "source": [
    "## 10. What is the data type of None?\n",
    "\n",
    "None type."
   ]
  },
  {
   "cell_type": "markdown",
   "id": "40d57c26",
   "metadata": {},
   "source": [
    "## 11. What does the sentence import areallyourpetsnamederic do?\n",
    "\n",
    "This import a module named areallyourpetsnamederic."
   ]
  },
  {
   "cell_type": "markdown",
   "id": "d75d0e7d",
   "metadata": {},
   "source": [
    "## 12. If you had a bacon() feature in a spam module, what would you call it after importing spam?\n",
    "\n",
    "spam.bacon()"
   ]
  },
  {
   "cell_type": "markdown",
   "id": "99531948",
   "metadata": {},
   "source": [
    "## 13. What can you do to save a programme from crashing if it encounters an error?\n",
    "\n",
    "Use Exception Handling. Using of ty block and except block will continue the program without crashing."
   ]
  }
 ],
 "metadata": {
  "kernelspec": {
   "display_name": "Python 3",
   "language": "python",
   "name": "python3"
  },
  "language_info": {
   "codemirror_mode": {
    "name": "ipython",
    "version": 3
   },
   "file_extension": ".py",
   "mimetype": "text/x-python",
   "name": "python",
   "nbconvert_exporter": "python",
   "pygments_lexer": "ipython3",
   "version": "3.8.8"
  }
 },
 "nbformat": 4,
 "nbformat_minor": 5
}
